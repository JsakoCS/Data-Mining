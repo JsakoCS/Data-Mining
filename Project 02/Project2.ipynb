{
  "nbformat": 4,
  "nbformat_minor": 0,
  "metadata": {
    "colab": {
      "provenance": []
    },
    "kernelspec": {
      "name": "python3",
      "display_name": "Python 3"
    },
    "language_info": {
      "name": "python"
    }
  },
  "cells": [
    {
      "cell_type": "markdown",
      "source": [
        "**Project Two | Data Mining**\n",
        "\n",
        "Name : Joseph Sako"
      ],
      "metadata": {
        "id": "gT9hN1BcaPEY"
      }
    },
    {
      "cell_type": "code",
      "source": [
        "# Start imports ...\n",
        "import pandas as pd\n",
        "import matplotlib.pyplot as plt\n",
        "import numpy as np\n",
        "from sklearn.preprocessing import StandardScaler\n",
        "from sklearn.preprocessing import LabelEncoder\n",
        "from sklearn.metrics import accuracy_score, f1_score, roc_curve, classification_report\n",
        "from sklearn.model_selection import train_test_split\n",
        "from imblearn.over_sampling import SMOTE\n",
        "from sklearn.linear_model import LogisticRegression\n",
        "from sklearn.metrics import confusion_matrix, roc_auc_score, roc_curve, classification_report, precision_recall_curve\n",
        "from sklearn.naive_bayes import GaussianNB\n",
        "from sklearn.neighbors import KNeighborsClassifier\n",
        "from sklearn.svm import SVC\n",
        "# End imports ."
      ],
      "metadata": {
        "id": "XV-9OJ-sanHn"
      },
      "execution_count": 1,
      "outputs": []
    },
    {
      "cell_type": "markdown",
      "source": [
        "S T E P ( 1 ) ..."
      ],
      "metadata": {
        "id": "j2ySM5rG18jJ"
      }
    },
    {
      "cell_type": "code",
      "source": [
        "# Load the stroke dataset .\n",
        "\n",
        "stroke_data = pd.read_csv('/content/healthcare-dataset-stroke-data.csv')"
      ],
      "metadata": {
        "id": "BkfJ0mJjgqbD"
      },
      "execution_count": 3,
      "outputs": []
    },
    {
      "cell_type": "code",
      "source": [
        "stroke_data[\"bmi\"] = stroke_data[\"bmi\"].apply(lambda x: 50 if x > 50 else x)\n",
        "stroke_data[\"avg_glucose_level\"] = stroke_data[\"avg_glucose_level\"].apply(lambda x: 175 if x > 175 else x)"
      ],
      "metadata": {
        "id": "MICiJYzI2JP0"
      },
      "execution_count": 4,
      "outputs": []
    },
    {
      "cell_type": "code",
      "source": [
        "stroke_data['bmi'] = stroke_data['bmi'].fillna(stroke_data['bmi'].mean())"
      ],
      "metadata": {
        "id": "sb-4m1mm2XoQ"
      },
      "execution_count": 5,
      "outputs": []
    },
    {
      "cell_type": "code",
      "source": [
        "le = LabelEncoder()\n",
        "i = 0\n",
        "for col_name in stroke_data.columns[i:]:\n",
        "  if (stroke_data[col_name].dtype == 'object'):\n",
        "    stroke_data[col_name] = le.fit_transform(stroke_data[col_name])"
      ],
      "metadata": {
        "id": "mFSuMAYk2kgZ"
      },
      "execution_count": 6,
      "outputs": []
    },
    {
      "cell_type": "code",
      "source": [
        "scaler = StandardScaler()\n",
        "stroke_data[[\"age\", \"avg_glucose_level\", \"bmi\"]] = scaler.fit_transform(stroke_data[[\"age\", \"avg_glucose_level\", \"bmi\"]])"
      ],
      "metadata": {
        "id": "DpLGIAyq4K1y"
      },
      "execution_count": 7,
      "outputs": []
    },
    {
      "cell_type": "code",
      "source": [
        "stroke_data[['age', 'avg_glucose_level', 'bmi']] = stroke_data[['age', 'avg_glucose_level', 'bmi']].apply(lambda x: x/x.max(), axis = 0)"
      ],
      "metadata": {
        "id": "4GSNHqB_4aim"
      },
      "execution_count": 8,
      "outputs": []
    },
    {
      "cell_type": "code",
      "source": [
        "x = stroke_data.drop(['id'], axis = 1)\n",
        "y = stroke_data['stroke']"
      ],
      "metadata": {
        "id": "kLEeJR9348lY"
      },
      "execution_count": 9,
      "outputs": []
    },
    {
      "cell_type": "code",
      "source": [
        "# Split the dataset into training and testing sets .\n",
        "\n",
        "x_train, x_test, y_train, y_test = train_test_split(x, y, test_size = 0.20, random_state = 0)"
      ],
      "metadata": {
        "id": "A0tjP4QS5P4P"
      },
      "execution_count": 10,
      "outputs": []
    },
    {
      "cell_type": "code",
      "source": [
        "# Being that the dataset is imbalanced , solve this problem by using SMOTE .\n",
        "\n",
        "sm = SMOTE(random_state = 2)\n",
        "x_train_res, y_train_res = sm.fit_resample(x_train, y_train.ravel())\n",
        "\n",
        "print('The shape of x_train after oversampling : {}'.format(x_train_res.shape))\n",
        "print('The shape of y_train after oversampling : {}'.format(y_train_res.shape))\n",
        "print(\"\\nCounts of label '0' after oversampling : {}\".format(sum(y_train_res == 0)))\n",
        "print(\"Counts of label '1' after oversampling : {}\".format(sum(y_train_res == 1)))"
      ],
      "metadata": {
        "colab": {
          "base_uri": "https://localhost:8080/"
        },
        "id": "-dvPN-xO70Ni",
        "outputId": "61f9db62-a698-4ec1-e80b-85fc34765579"
      },
      "execution_count": 11,
      "outputs": [
        {
          "output_type": "stream",
          "name": "stdout",
          "text": [
            "The shape of x_train after oversampling : (7786, 11)\n",
            "The shape of y_train after oversampling : (7786,)\n",
            "\n",
            "Counts of label '0' after oversampling : 3893\n",
            "Counts of label '1' after oversampling : 3893\n"
          ]
        }
      ]
    },
    {
      "cell_type": "markdown",
      "source": [
        "S T E P ( 2 ) ..."
      ],
      "metadata": {
        "id": "gZjHYnQlB__O"
      }
    },
    {
      "cell_type": "code",
      "source": [
        "# Build a Logistic Regression model using the training set .\n",
        "\n",
        "lr = LogisticRegression()\n",
        "lr.fit(x_train_res, y_train_res)\n",
        "y_predict_test = lr.predict(x_test)\n",
        "lrs, lrt, _ = roc_curve(y_test, y_predict_test)\n",
        "accuracy_test = accuracy_score(y_test, y_predict_test)\n",
        "print('Accuracy ( testing ) : ', accuracy_test.round(4))\n",
        "\n",
        "y_predict_train = lr.predict(x_train_res)\n",
        "accuracy_train = accuracy_score(y_train_res, y_predict_train)\n",
        "### print('Accuracy ( training ) : ', accuracy_train.round(4))\n",
        "\n",
        "ras = roc_auc_score(y_test, y_predict_test)\n",
        "print('ROC AUC Score : ', ras)\n",
        "\n",
        "f1 = f1_score(y_test, y_predict_test)\n",
        "print('F1 Score : ', f1)"
      ],
      "metadata": {
        "colab": {
          "base_uri": "https://localhost:8080/"
        },
        "id": "AlZw1EIjCMGx",
        "outputId": "a20a5f93-9573-49d9-99de-79da87f64933"
      },
      "execution_count": 12,
      "outputs": [
        {
          "output_type": "stream",
          "name": "stdout",
          "text": [
            "Accuracy ( testing ) :  1.0\n",
            "ROC AUC Score :  1.0\n",
            "F1 Score :  1.0\n"
          ]
        }
      ]
    },
    {
      "cell_type": "code",
      "source": [
        "# Build a Naive Bayes model using the training set .\n",
        "\n",
        "nb = GaussianNB()\n",
        "nb.fit(x_train, y_train)\n",
        "y_predict_nb = nb.predict(x_test)\n",
        "\n",
        "second_accuracy_test = accuracy_score(y_test, y_predict_nb)\n",
        "print('Accuracy ( testing ) : ', second_accuracy_test.round(4))\n",
        "\n",
        "nbr, nbm, _ = roc_curve(y_test, y_predict_nb)\n",
        "second_y_predict_train = nb.predict(x_train_res)\n",
        "second_accuracy_train = accuracy_score(y_train_res, second_y_predict_train)\n",
        "### print('Accuracy ( training ) : ', second_accuracy_train.round(4))\n",
        "\n",
        "second_ras = roc_auc_score(y_test, y_predict_nb)\n",
        "print('ROC AUC Score : ', second_ras)\n",
        "\n",
        "second_f1 = f1_score(y_test, y_predict_nb)\n",
        "print('F1 Score : ', second_f1)"
      ],
      "metadata": {
        "colab": {
          "base_uri": "https://localhost:8080/"
        },
        "id": "nHzanI1lJU0R",
        "outputId": "7c774714-8992-48ba-c40c-e3b1b1f4d582"
      },
      "execution_count": 13,
      "outputs": [
        {
          "output_type": "stream",
          "name": "stdout",
          "text": [
            "Accuracy ( testing ) :  1.0\n",
            "ROC AUC Score :  1.0\n",
            "F1 Score :  1.0\n"
          ]
        }
      ]
    },
    {
      "cell_type": "code",
      "source": [
        "# Build a K Nearest Neighbor Classifier model using the training set .\n",
        "\n",
        "knc = KNeighborsClassifier(n_neighbors = 5)\n",
        "knc.fit(x_train_res, y_train_res)\n",
        "y_predict_knc = knc.predict(x_test)\n",
        "knr, knt, _ = roc_curve(y_test, y_predict_knc)\n",
        "third_accuracy_test = accuracy_score(y_test, y_predict_knc)\n",
        "print('Accuracy ( testing ) : ', third_accuracy_test.round(4))\n",
        "\n",
        "third_y_predict_train = knc.predict(x_train_res)\n",
        "third_accuracy_train = accuracy_score(y_train_res, third_y_predict_train)\n",
        "### print('Accuracy ( training ) : ', third_accuracy_train.round(4))\n",
        "\n",
        "third_ras = roc_auc_score(y_test, y_predict_knc)\n",
        "print('ROC AUC Score : ', third_ras)\n",
        "\n",
        "third_f1 = f1_score(y_test, y_predict_knc)\n",
        "print('F1 Score : ', third_f1)"
      ],
      "metadata": {
        "colab": {
          "base_uri": "https://localhost:8080/"
        },
        "id": "7zyHkhj3OGZn",
        "outputId": "342327b2-20f6-401a-987e-e3e499016c75"
      },
      "execution_count": 14,
      "outputs": [
        {
          "output_type": "stream",
          "name": "stdout",
          "text": [
            "Accuracy ( testing ) :  0.9892\n",
            "ROC AUC Score :  0.9331190694827057\n",
            "F1 Score :  0.8952380952380952\n"
          ]
        }
      ]
    },
    {
      "cell_type": "code",
      "source": [
        "# Build a Support Vector Machine Classifier model using the training set .\n",
        "\n",
        "svc = SVC()\n",
        "svc.fit(x_train_res, y_train_res)\n",
        "\n",
        "y_predict_svc = svc.predict(x_test)\n",
        "svr, svt, _ = roc_curve(y_test, y_predict_svc)\n",
        "fourth_accuracy_test = accuracy_score(y_test, y_predict_svc)\n",
        "print('Accuracy ( testing ) : ', fourth_accuracy_test.round(4))\n",
        "\n",
        "fourth_y_predict_train = svc.predict(x_train_res)\n",
        "fourth_accuracy_train = accuracy_score(y_train_res, fourth_y_predict_train)\n",
        "### print('Accuracy ( training ) : ', fourth_accuracy_train.round(4))\n",
        "\n",
        "fourth_ras = roc_auc_score(y_test, y_predict_svc)\n",
        "print('ROC AUC Score : ', fourth_ras)\n",
        "\n",
        "fourth_f1 = f1_score(y_test, y_predict_svc)\n",
        "print('F1 Score : ', fourth_f1)"
      ],
      "metadata": {
        "colab": {
          "base_uri": "https://localhost:8080/"
        },
        "id": "6Y-jqpegRXZp",
        "outputId": "18f3f61c-3a78-4c8d-955c-83bb47b49976"
      },
      "execution_count": 15,
      "outputs": [
        {
          "output_type": "stream",
          "name": "stdout",
          "text": [
            "Accuracy ( testing ) :  1.0\n",
            "ROC AUC Score :  1.0\n",
            "F1 Score :  1.0\n"
          ]
        }
      ]
    },
    {
      "cell_type": "markdown",
      "source": [
        "S T E P ( 3 ) ..."
      ],
      "metadata": {
        "id": "n_9QHuO-Yi7b"
      }
    },
    {
      "cell_type": "markdown",
      "source": [
        "Upon further evaluation , we can see that the first , second , and fourth models have an equivalent and are of the highest accuracy , AUC-ROC , and F-score . This indicates that these models ( Logistic Regression model , Naive Bayes model , and Support Vector Machine Classifier model ) perform the best on the testing set . The third model ( K Nearest Neighbor Classifier model ) follows behind the other three . It is significant to remember however that the dataset and problem influence the metric of choice . For instance , we could want to emphasize F-score over accuracy if the dataset is highly unbalanced , while we might want to use a different metric entirely if the cost of false positives and false negatives differs .\n",
        "\n",
        "Overall , we can conclude that all four models perform reasonably well in predicting the outcome variable . However , based on the evaluation metrics , we can see that the K Nearest Neighbor Classifier model perform slightly worse than the others in terms of accuracy , F1-score , and AUC-ROC score . Therefore , we could consider using the first , second , and fourth models for predicting the outcome variable in this particular problem ."
      ],
      "metadata": {
        "id": "XUczZyKNlsqz"
      }
    },
    {
      "cell_type": "markdown",
      "source": [
        "S T E P ( 3.5 ) ..."
      ],
      "metadata": {
        "id": "CsiyKY8oY5iS"
      }
    },
    {
      "cell_type": "code",
      "source": [
        "plt.figure(figsize = (10, 10))\n",
        "plt.plot(lrs, lrt, linestyle = '--', color = 'red', label = 'Logistic Regression')\n",
        "plt.plot(nbr, nbm, linestyle = '--', color = 'green', label = 'Naive Bayes')\n",
        "plt.plot(knr, knt, linestyle = '--', color = 'orange', label = 'K . N . N .')\n",
        "plt.plot(svr, svt, linestyle = '--', color = 'black', label = 'S . V . M .')\n",
        "plt.plot([0, 1], [0, 1], 'k--')\n",
        "plt.xlabel('False Positive Rate')\n",
        "plt.ylabel('True Positive Rate')\n",
        "plt.title('AUC - ROC Curve')\n",
        "plt.legend()\n",
        "plt.show()"
      ],
      "metadata": {
        "colab": {
          "base_uri": "https://localhost:8080/",
          "height": 621
        },
        "id": "1IjUqKysZGOz",
        "outputId": "e5308c2d-d0bd-49b2-f756-28fa289d260f"
      },
      "execution_count": 36,
      "outputs": [
        {
          "output_type": "display_data",
          "data": {
            "text/plain": [
              "<Figure size 720x720 with 1 Axes>"
            ],
            "image/png": "[encoded data removed]"
          },
          "metadata": {
            "needs_background": "light"
          }
        }
      ]
    },
    {
      "cell_type": "markdown",
      "source": [
        "It may be determined here that the first , second , and fourth models all have the highest curves . It is also evident here that the third model falls behind the rest . As a result , we may determine that the Logistic Regression model , Naive Bayes model , and Support Vector Machine Classifier model had done better jobs in classification as compared to the K Nearest Neighbor Classifier model ."
      ],
      "metadata": {
        "id": "ObipPhqwcIPY"
      }
    }
  ]
}